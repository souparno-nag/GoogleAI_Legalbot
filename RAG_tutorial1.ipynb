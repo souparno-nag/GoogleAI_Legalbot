{
 "cells": [
  {
   "cell_type": "markdown",
   "id": "fbba460b",
   "metadata": {},
   "source": [
    "### Chat Model"
   ]
  },
  {
   "cell_type": "code",
   "execution_count": 1,
   "id": "ad81b1d5",
   "metadata": {},
   "outputs": [],
   "source": [
    "import getpass\n",
    "import os\n",
    "\n",
    "if not os.environ.get(\"OPENAI_API_KEY\"):\n",
    "  os.environ[\"OPENAI_API_KEY\"] = getpass.getpass(\"Enter API key for OpenAI: \")\n",
    "\n",
    "from langchain.chat_models import init_chat_model\n",
    "\n",
    "llm = init_chat_model(\"gpt-4o-mini\", model_provider=\"openai\")"
   ]
  },
  {
   "cell_type": "markdown",
   "id": "1909053f",
   "metadata": {},
   "source": [
    "### Embedding Model"
   ]
  },
  {
   "cell_type": "code",
   "execution_count": 2,
   "id": "60c4f632",
   "metadata": {},
   "outputs": [],
   "source": [
    "from langchain_ollama import OllamaEmbeddings\n",
    "\n",
    "embeddings = OllamaEmbeddings(model=\"nomic-embed-text:v1.5\")"
   ]
  },
  {
   "cell_type": "markdown",
   "id": "7248bc2d",
   "metadata": {},
   "source": [
    "### Vector Store"
   ]
  },
  {
   "cell_type": "code",
   "execution_count": 3,
   "id": "15045535",
   "metadata": {},
   "outputs": [],
   "source": [
    "# Local Storage\n",
    "\n",
    "from langchain_core.vectorstores import InMemoryVectorStore\n",
    "\n",
    "vector_store = InMemoryVectorStore(embeddings)"
   ]
  },
  {
   "cell_type": "markdown",
   "id": "dd1176ba",
   "metadata": {},
   "source": [
    "# Indexing"
   ]
  },
  {
   "cell_type": "markdown",
   "id": "6cb7c441",
   "metadata": {},
   "source": [
    "### Loading document"
   ]
  },
  {
   "cell_type": "code",
   "execution_count": 4,
   "id": "2b7dc718",
   "metadata": {},
   "outputs": [],
   "source": [
    "from langchain_community.document_loaders import PyPDFLoader\n",
    "\n",
    "file_path = './Hostel_Affidavit_Men_2024-Chennai_Updated.pdf'\n",
    "loader = PyPDFLoader(file_path)\n",
    "pages = []\n",
    "async for page in loader.alazy_load():\n",
    "    pages.append(page)"
   ]
  },
  {
   "cell_type": "code",
   "execution_count": 5,
   "id": "c4d39b8f",
   "metadata": {},
   "outputs": [
    {
     "name": "stdout",
     "output_type": "stream",
     "text": [
      "('id', None)\n",
      "('metadata', {'producer': 'Microsoft® Word 2013', 'creator': 'Microsoft® Word 2013', 'creationdate': '2024-06-13T07:51:16+05:30', 'author': 'Windows User', 'moddate': '2024-06-13T07:51:16+05:30', 'source': './Hostel_Affidavit_Men_2024-Chennai_Updated.pdf', 'total_pages': 1, 'page': 0, 'page_label': '1'})\n",
      "('page_content', \"JOINT AFFIDAVIT BY PARENT / GUARDIAN AND STUDENT \\n(This matter has to be typed on a non-judicial stamp paper of ₹200/-) \\n \\nMr./Mrs./Ms ...............................................................................................(Full name of parent / guardian) father / mother/ guardian \\nof …......................................................... (Full name of student with admission / registration / enrolment number), have been \\nadmitted to .............................................................................(Name of the Program and Institution). I/we have read and understood \\nthe hereunder specified Rules and Regulations of VIT Men's Hostel. I/we agree to obey by the Hostel Rules and Regulations. I/We \\nread the detailed rules given in (http://chennai.vit.ac.in/campus/hostels) and follow them. \\n \\nHighlights of Rules and Regulations of VIT Men's Hostel \\nIN-TIME \\nCAMPUS MAIN GATE HOSTEL BLOCK \\n6.00 pm 9.00 pm \\n1. Students should be available in their respective rooms as attendance will be taken in your respective blocks at 9.00 pm \\nevery night. \\n2. Students should stay only in the room allotted to them. Staying in other's room is not permitted. \\n3. The room which is allotted to the student is not permanent; if necessary, we may change the room  according to the hostel \\nmaintenance convenience. \\n4. Any physical/mental harassment towards fellow students including ragging, quarrelling, using abusive language and \\nviolent behaviour is prohibited. \\n5. Smoking is strictly prohibited inside the Hostel premises and University Campus. \\n6. Hostel is meant for facilitating students for studies. Therefore, silence should be maintained especially from 9.00 pm to \\n6.00am. Students should not disturb other student by conducting any kind of parties, playing music, talking loudly over \\nmobile phone etc. \\n7. Multi-Level Marketing (MLM) and gambling in any form including playing cards in the hostel is prohibited. \\n8. Playing On-line games/any mode of games by disturbing hostel peaceful environment is strictly prohibited. \\n9. If liquor bottle (even empty bottle) is found in any room all the students staying in that room are liable to be suspended for \\nONE YEAR. Also, if any student consumes liquor inside hostel rooms or tries to bring liquor into the hostel or campus is \\nliable for suspension for ONE YEAR. If any student enters the campus /  hostel in drunken state is liable for suspension  \\nfor ONE SEMESTER. \\n10. If narcotics or related substances are found in any room, all the students staying in that room will be expelled from VIT. \\nStudents who consume/ trade/ possess narcotics inside/outside the hostel shall be expelled from VIT. Substance abuse is \\nprohibited. \\n11. Anyone causing damage to the hostel property will be penalized suitably. \\n12. Hostel students shall not bring any day-scholar/ ex-VITian /non-VITian inside the hostel premises. \\n13. Students should apply leave/ permission to their Proctors through their Student-Login of VIT website. Students should not \\ngo to a place other than specified in the leave request. \\n14. If a student is going out for an overnight stay, she should obtain prior permission before leaving the hostel as per \\nprocedure. Violation of this is punishable as per norms. \\n15. Hostellers are not allowed to keep or operate any kind of motor vehicles inside/outside of the hostel campus. However \\nBicycle can be used. \\n16. Students are not allowed to keep air coolers/TV/electric iron box/any other electrical & electronic equip ment/gadgets in \\ntheir rooms. Unauthorized possession will lead to confiscation of the goods. Cooking in the rooms is strictly prohibited.  \\n17. Students are personally responsible to safeguard their belongings. Students are advised not to keep huge amount of cas h \\nor valuables like gold, costly wristwatch/ laptop/ mobile phone, expensive jewellers etc., in their rooms.  \\n18. Students will not be permitted to stay in the hostels during vacation period, unless they have academic assignments. \\n19. Students planning to stay back during summer semester at hostels should pay the summer semester fees. \\n20. Due to safety issue, all students who are 60km away from the campus should stay in the VIT-Hostel only till the \\ncourse completion. Staying in external Hostels / Rented houses with friends are not allowed under any circumstances. \\n21. The parent/guardian should report in person as and when called by the hostel officials.  No other friends/relatives will be \\nentertained. \\n22. The parents/guardian is expected to raise their issues/concerns to the respective in-charge or proctor by referring to the \\nuniversity's official website. \\n \\nSignature of the Student Signature of the Parent/Guardian \\n(Name: ) (Name: ) \\nApplication No: \\nDate: \\nPlace: \\n \\n \\nOATH COMMISSIONER / ADVOCATE AND NOTARY PUBLIC \\nPage | 1\")\n",
      "('type', 'Document')\n"
     ]
    }
   ],
   "source": [
    "for part in pages[0]:\n",
    "    print(part)"
   ]
  },
  {
   "cell_type": "code",
   "execution_count": 6,
   "id": "62c91caa",
   "metadata": {},
   "outputs": [
    {
     "name": "stdout",
     "output_type": "stream",
     "text": [
      "{'producer': 'Microsoft® Word 2013', 'creator': 'Microsoft® Word 2013', 'creationdate': '2024-06-13T07:51:16+05:30', 'author': 'Windows User', 'moddate': '2024-06-13T07:51:16+05:30', 'source': './Hostel_Affidavit_Men_2024-Chennai_Updated.pdf', 'total_pages': 1, 'page': 0, 'page_label': '1'}\n",
      "\n",
      "JOINT AFFIDAVIT BY PARENT / GUARDIAN AND STUDENT \n",
      "(This matter has to be typed on a non-judicial stamp paper of ₹200/-) \n",
      " \n",
      "Mr./Mrs./Ms ...............................................................................................(Full name of parent / guardian) father / mother/ guardian \n",
      "of …......................................................... (Full name of student with admission / registration / enrolment number), have been \n",
      "admitted to .............................................................................(Name of the Program and Institution). I/we have read and understood \n",
      "the hereunder specified Rules and Regulations of VIT Men's Hostel. I/we agree to obey by the Hostel Rules and Regulations. I/We \n",
      "read the detailed rules given in (http://chennai.vit.ac.in/campus/hostels) and follow them. \n",
      " \n",
      "Highlights of Rules and Regulations of VIT Men's Hostel \n",
      "IN-TIME \n",
      "CAMPUS MAIN GATE HOSTEL BLOCK \n",
      "6.00 pm 9.00 pm \n",
      "1. Students should be available in their respective rooms as attendance will be taken in your respective blocks at 9.00 pm \n",
      "every night. \n",
      "2. Students should stay only in the room allotted to them. Staying in other's room is not permitted. \n",
      "3. The room which is allotted to the student is not permanent; if necessary, we may change the room  according to the hostel \n",
      "maintenance convenience. \n",
      "4. Any physical/mental harassment towards fellow students including ragging, quarrelling, using abusive language and \n",
      "violent behaviour is prohibited. \n",
      "5. Smoking is strictly prohibited inside the Hostel premises and University Campus. \n",
      "6. Hostel is meant for facilitating students for studies. Therefore, silence should be maintained especially from 9.00 pm to \n",
      "6.00am. Students should not disturb other student by conducting any kind of parties, playing music, talking loudly over \n",
      "mobile phone etc. \n",
      "7. Multi-Level Marketing (MLM) and gambling in any form including playing cards in the hostel is prohibited. \n",
      "8. Playing On-line games/any mode of games by disturbing hostel peaceful environment is strictly prohibited. \n",
      "9. If liquor bottle (even empty bottle) is found in any room all the students staying in that room are liable to be suspended for \n",
      "ONE YEAR. Also, if any student consumes liquor inside hostel rooms or tries to bring liquor into the hostel or campus is \n",
      "liable for suspension for ONE YEAR. If any student enters the campus /  hostel in drunken state is liable for suspension  \n",
      "for ONE SEMESTER. \n",
      "10. If narcotics or related substances are found in any room, all the students staying in that room will be expelled from VIT. \n",
      "Students who consume/ trade/ possess narcotics inside/outside the hostel shall be expelled from VIT. Substance abuse is \n",
      "prohibited. \n",
      "11. Anyone causing damage to the hostel property will be penalized suitably. \n",
      "12. Hostel students shall not bring any day-scholar/ ex-VITian /non-VITian inside the hostel premises. \n",
      "13. Students should apply leave/ permission to their Proctors through their Student-Login of VIT website. Students should not \n",
      "go to a place other than specified in the leave request. \n",
      "14. If a student is going out for an overnight stay, she should obtain prior permission before leaving the hostel as per \n",
      "procedure. Violation of this is punishable as per norms. \n",
      "15. Hostellers are not allowed to keep or operate any kind of motor vehicles inside/outside of the hostel campus. However \n",
      "Bicycle can be used. \n",
      "16. Students are not allowed to keep air coolers/TV/electric iron box/any other electrical & electronic equip ment/gadgets in \n",
      "their rooms. Unauthorized possession will lead to confiscation of the goods. Cooking in the rooms is strictly prohibited.  \n",
      "17. Students are personally responsible to safeguard their belongings. Students are advised not to keep huge amount of cas h \n",
      "or valuables like gold, costly wristwatch/ laptop/ mobile phone, expensive jewellers etc., in their rooms.  \n",
      "18. Students will not be permitted to stay in the hostels during vacation period, unless they have academic assignments. \n",
      "19. Students planning to stay back during summer semester at hostels should pay the summer semester fees. \n",
      "20. Due to safety issue, all students who are 60km away from the campus should stay in the VIT-Hostel only till the \n",
      "course completion. Staying in external Hostels / Rented houses with friends are not allowed under any circumstances. \n",
      "21. The parent/guardian should report in person as and when called by the hostel officials.  No other friends/relatives will be \n",
      "entertained. \n",
      "22. The parents/guardian is expected to raise their issues/concerns to the respective in-charge or proctor by referring to the \n",
      "university's official website. \n",
      " \n",
      "Signature of the Student Signature of the Parent/Guardian \n",
      "(Name: ) (Name: ) \n",
      "Application No: \n",
      "Date: \n",
      "Place: \n",
      " \n",
      " \n",
      "OATH COMMISSIONER / ADVOCATE AND NOTARY PUBLIC \n",
      "Page | 1\n"
     ]
    }
   ],
   "source": [
    "print(f\"{pages[0].metadata}\\n\")\n",
    "print(pages[0].page_content)"
   ]
  },
  {
   "cell_type": "code",
   "execution_count": 7,
   "id": "97e5fbec",
   "metadata": {},
   "outputs": [
    {
     "name": "stdout",
     "output_type": "stream",
     "text": [
      "Total characters: 4822\n"
     ]
    }
   ],
   "source": [
    "print(f\"Total characters: {len(pages[0].page_content)}\")"
   ]
  },
  {
   "cell_type": "markdown",
   "id": "5401753d",
   "metadata": {},
   "source": [
    "### Splitting document"
   ]
  },
  {
   "cell_type": "code",
   "execution_count": 8,
   "id": "3946469f",
   "metadata": {},
   "outputs": [
    {
     "name": "stdout",
     "output_type": "stream",
     "text": [
      "Split blog post into 6 sub-documents.\n"
     ]
    }
   ],
   "source": [
    "from langchain_text_splitters import RecursiveCharacterTextSplitter\n",
    "\n",
    "text_splitter = RecursiveCharacterTextSplitter(\n",
    "    chunk_size=1000,  # chunk size (characters)\n",
    "    chunk_overlap=200,  # chunk overlap (characters)\n",
    "    add_start_index=True,  # track index in original document\n",
    ")\n",
    "\n",
    "all_splits = text_splitter.split_documents(pages)\n",
    "print(f\"Split blog post into {len(all_splits)} sub-documents.\")"
   ]
  },
  {
   "cell_type": "markdown",
   "id": "5ed86e4e",
   "metadata": {},
   "source": [
    "### Storing documents"
   ]
  },
  {
   "cell_type": "code",
   "execution_count": 9,
   "id": "94ccc973",
   "metadata": {},
   "outputs": [
    {
     "name": "stdout",
     "output_type": "stream",
     "text": [
      "['eedf39e6-c3d6-4a76-9b4b-74e6287cba1e', '7ebbbc2b-c8d9-4809-a4a3-e74cc10d7aca', 'cf1eb3be-d656-4073-8da8-0c202d906913']\n"
     ]
    }
   ],
   "source": [
    "document_ids = vector_store.add_documents(documents=all_splits)\n",
    "\n",
    "print(document_ids[:3])"
   ]
  },
  {
   "cell_type": "code",
   "execution_count": 10,
   "id": "8d5130aa",
   "metadata": {},
   "outputs": [
    {
     "data": {
      "text/plain": [
       "['eedf39e6-c3d6-4a76-9b4b-74e6287cba1e',\n",
       " '7ebbbc2b-c8d9-4809-a4a3-e74cc10d7aca',\n",
       " 'cf1eb3be-d656-4073-8da8-0c202d906913',\n",
       " '3803911c-efb9-4475-8434-a9bea7ddaf41',\n",
       " '9b110679-fc97-42f2-b08c-a7418c30189f',\n",
       " '293705f1-8fde-458a-900d-9db672918539']"
      ]
     },
     "execution_count": 10,
     "metadata": {},
     "output_type": "execute_result"
    }
   ],
   "source": [
    "document_ids"
   ]
  },
  {
   "cell_type": "markdown",
   "id": "0cef1d52",
   "metadata": {},
   "source": [
    "# Retrieval"
   ]
  },
  {
   "cell_type": "markdown",
   "id": "ae0435ad",
   "metadata": {},
   "source": [
    "### Defining State (TypeDict or Pydantic BaseModel)"
   ]
  },
  {
   "cell_type": "code",
   "execution_count": 11,
   "id": "0d1a6500",
   "metadata": {},
   "outputs": [],
   "source": [
    "from langchain_core.documents import Document\n",
    "from typing_extensions import List, TypedDict\n",
    "\n",
    "class State(TypedDict):\n",
    "    question: str\n",
    "    context: List[Document]\n",
    "    answer: str"
   ]
  },
  {
   "cell_type": "markdown",
   "id": "d1900fb7",
   "metadata": {},
   "source": [
    "### Custom Prompt"
   ]
  },
  {
   "cell_type": "code",
   "execution_count": 18,
   "id": "69689080",
   "metadata": {},
   "outputs": [],
   "source": [
    "from langchain_core.prompts import PromptTemplate\n",
    "\n",
    "template = \"\"\"Use the following pieces of context to answer the question at the end.\n",
    "If you don't know the answer, just say that you don't know, don't try to make up an answer.\n",
    "Use three sentences maximum and keep the answer as concise as possible.\n",
    "Always say \"thanks for asking!\" at the end of the answer.\n",
    "\n",
    "{context}\n",
    "\n",
    "Question: {question}\n",
    "\n",
    "Helpful Answer:\"\"\"\n",
    "\n",
    "custom_rag_prompt = PromptTemplate.from_template(template)"
   ]
  },
  {
   "cell_type": "markdown",
   "id": "d95ac21d",
   "metadata": {},
   "source": [
    "# Retrieve and Generate"
   ]
  },
  {
   "cell_type": "code",
   "execution_count": 19,
   "id": "e602fa0d",
   "metadata": {},
   "outputs": [],
   "source": [
    "def retrieve(state: State):\n",
    "    retrieved_docs = vector_store.similarity_search(state[\"question\"])\n",
    "    return {\"context\": retrieved_docs}\n",
    "\n",
    "\n",
    "def generate(state: State):\n",
    "    docs_content = \"\\n\\n\".join(doc.page_content for doc in state[\"context\"])\n",
    "    messages = custom_rag_prompt.invoke({\"question\": state[\"question\"], \"context\": docs_content})\n",
    "    response = llm.invoke(messages)\n",
    "    return {\"answer\": response.content}"
   ]
  },
  {
   "cell_type": "markdown",
   "id": "425c843b",
   "metadata": {},
   "source": [
    "# Control Flow"
   ]
  },
  {
   "cell_type": "code",
   "execution_count": 20,
   "id": "3b672d90",
   "metadata": {},
   "outputs": [],
   "source": [
    "from langgraph.graph import START, StateGraph\n",
    "\n",
    "graph_builder = StateGraph(State).add_sequence([retrieve, generate])\n",
    "graph_builder.add_edge(START, \"retrieve\")\n",
    "graph = graph_builder.compile()"
   ]
  },
  {
   "cell_type": "code",
   "execution_count": 21,
   "id": "809300ad",
   "metadata": {},
   "outputs": [
    {
     "data": {
      "image/png": "[encoded data removed]",
      "text/plain": [
       "<IPython.core.display.Image object>"
      ]
     },
     "metadata": {},
     "output_type": "display_data"
    }
   ],
   "source": [
    "from IPython.display import Image, display\n",
    "\n",
    "display(Image(graph.get_graph().draw_mermaid_png()))"
   ]
  },
  {
   "cell_type": "markdown",
   "id": "5a78a016",
   "metadata": {},
   "source": [
    "# Invoking prompt"
   ]
  },
  {
   "cell_type": "code",
   "execution_count": 22,
   "id": "d4b0f298",
   "metadata": {},
   "outputs": [
    {
     "name": "stdout",
     "output_type": "stream",
     "text": [
      "Context: [Document(id='eedf39e6-c3d6-4a76-9b4b-74e6287cba1e', metadata={'producer': 'Microsoft® Word 2013', 'creator': 'Microsoft® Word 2013', 'creationdate': '2024-06-13T07:51:16+05:30', 'author': 'Windows User', 'moddate': '2024-06-13T07:51:16+05:30', 'source': './Hostel_Affidavit_Men_2024-Chennai_Updated.pdf', 'total_pages': 1, 'page': 0, 'page_label': '1', 'start_index': 0}, page_content=\"JOINT AFFIDAVIT BY PARENT / GUARDIAN AND STUDENT \\n(This matter has to be typed on a non-judicial stamp paper of ₹200/-) \\n \\nMr./Mrs./Ms ...............................................................................................(Full name of parent / guardian) father / mother/ guardian \\nof …......................................................... (Full name of student with admission / registration / enrolment number), have been \\nadmitted to .............................................................................(Name of the Program and Institution). I/we have read and understood \\nthe hereunder specified Rules and Regulations of VIT Men's Hostel. I/we agree to obey by the Hostel Rules and Regulations. I/We \\nread the detailed rules given in (http://chennai.vit.ac.in/campus/hostels) and follow them. \\n \\nHighlights of Rules and Regulations of VIT Men's Hostel \\nIN-TIME \\nCAMPUS MAIN GATE HOSTEL BLOCK \\n6.00 pm 9.00 pm\"), Document(id='7ebbbc2b-c8d9-4809-a4a3-e74cc10d7aca', metadata={'producer': 'Microsoft® Word 2013', 'creator': 'Microsoft® Word 2013', 'creationdate': '2024-06-13T07:51:16+05:30', 'author': 'Windows User', 'moddate': '2024-06-13T07:51:16+05:30', 'source': './Hostel_Affidavit_Men_2024-Chennai_Updated.pdf', 'total_pages': 1, 'page': 0, 'page_label': '1', 'start_index': 819}, page_content=\"Highlights of Rules and Regulations of VIT Men's Hostel \\nIN-TIME \\nCAMPUS MAIN GATE HOSTEL BLOCK \\n6.00 pm 9.00 pm \\n1. Students should be available in their respective rooms as attendance will be taken in your respective blocks at 9.00 pm \\nevery night. \\n2. Students should stay only in the room allotted to them. Staying in other's room is not permitted. \\n3. The room which is allotted to the student is not permanent; if necessary, we may change the room  according to the hostel \\nmaintenance convenience. \\n4. Any physical/mental harassment towards fellow students including ragging, quarrelling, using abusive language and \\nviolent behaviour is prohibited. \\n5. Smoking is strictly prohibited inside the Hostel premises and University Campus. \\n6. Hostel is meant for facilitating students for studies. Therefore, silence should be maintained especially from 9.00 pm to \\n6.00am. Students should not disturb other student by conducting any kind of parties, playing music, talking loudly over\"), Document(id='293705f1-8fde-458a-900d-9db672918539', metadata={'producer': 'Microsoft® Word 2013', 'creator': 'Microsoft® Word 2013', 'creationdate': '2024-06-13T07:51:16+05:30', 'author': 'Windows User', 'moddate': '2024-06-13T07:51:16+05:30', 'source': './Hostel_Affidavit_Men_2024-Chennai_Updated.pdf', 'total_pages': 1, 'page': 0, 'page_label': '1', 'start_index': 4112}, page_content=\"20. Due to safety issue, all students who are 60km away from the campus should stay in the VIT-Hostel only till the \\ncourse completion. Staying in external Hostels / Rented houses with friends are not allowed under any circumstances. \\n21. The parent/guardian should report in person as and when called by the hostel officials.  No other friends/relatives will be \\nentertained. \\n22. The parents/guardian is expected to raise their issues/concerns to the respective in-charge or proctor by referring to the \\nuniversity's official website. \\n \\nSignature of the Student Signature of the Parent/Guardian \\n(Name: ) (Name: ) \\nApplication No: \\nDate: \\nPlace: \\n \\n \\nOATH COMMISSIONER / ADVOCATE AND NOTARY PUBLIC \\nPage | 1\"), Document(id='9b110679-fc97-42f2-b08c-a7418c30189f', metadata={'producer': 'Microsoft® Word 2013', 'creator': 'Microsoft® Word 2013', 'creationdate': '2024-06-13T07:51:16+05:30', 'author': 'Windows User', 'moddate': '2024-06-13T07:51:16+05:30', 'source': './Hostel_Affidavit_Men_2024-Chennai_Updated.pdf', 'total_pages': 1, 'page': 0, 'page_label': '1', 'start_index': 3252}, page_content='15. Hostellers are not allowed to keep or operate any kind of motor vehicles inside/outside of the hostel campus. However \\nBicycle can be used. \\n16. Students are not allowed to keep air coolers/TV/electric iron box/any other electrical & electronic equip ment/gadgets in \\ntheir rooms. Unauthorized possession will lead to confiscation of the goods. Cooking in the rooms is strictly prohibited.  \\n17. Students are personally responsible to safeguard their belongings. Students are advised not to keep huge amount of cas h \\nor valuables like gold, costly wristwatch/ laptop/ mobile phone, expensive jewellers etc., in their rooms.  \\n18. Students will not be permitted to stay in the hostels during vacation period, unless they have academic assignments. \\n19. Students planning to stay back during summer semester at hostels should pay the summer semester fees. \\n20. Due to safety issue, all students who are 60km away from the campus should stay in the VIT-Hostel only till the')]\n",
      "\n",
      "\n",
      "Answer: The affidavit outlines rules for the VIT Men's Hostel, including mandatory in-time for attendance at 9.00 pm, restrictions on staying in rooms other than the one assigned, and prohibitions against smoking and keeping unauthorized electronic equipment. Additionally, it emphasizes maintaining silence during specified hours, safeguarding personal belongings, and the requirement for students living over 60 km away to stay in the hostel until course completion. Thanks for asking!\n"
     ]
    }
   ],
   "source": [
    "result = graph.invoke({\"question\": \"What are the rules in the affidavit?\"})\n",
    "\n",
    "print(f\"Context: {result['context']}\\n\\n\")\n",
    "print(f\"Answer: {result['answer']}\")"
   ]
  }
 ],
 "metadata": {
  "kernelspec": {
   "display_name": "legal-env",
   "language": "python",
   "name": "python3"
  },
  "language_info": {
   "codemirror_mode": {
    "name": "ipython",
    "version": 3
   },
   "file_extension": ".py",
   "mimetype": "text/x-python",
   "name": "python",
   "nbconvert_exporter": "python",
   "pygments_lexer": "ipython3",
   "version": "3.12.11"
  }
 },
 "nbformat": 4,
 "nbformat_minor": 5
}
